{
 "cells": [
  {
   "cell_type": "code",
   "execution_count": 1,
   "id": "75428982-38be-4587-8fae-1714b805e7f8",
   "metadata": {},
   "outputs": [
    {
     "data": {
      "text/plain": [
       "'Q1. How can you create a Bokeh plot using Python code?\\nTo create a Bokeh plot, you need to import the necessary modules from Bokeh, create a figure object, add glyphs (like lines or circles) to the figure, and then display the plot using the show function.\\n\\nQ2. What are glyphs in Bokeh, and how can you add them to a Bokeh plot? Explain with an example.\\nGlyphs are the basic visual elements in Bokeh plots, such as circles, lines, rectangles, etc. You can add them to a Bokeh plot by calling methods like circle, line, rect, etc., on a figure object.\\n\\nQ3. How can you customize the appearance of a Bokeh plot, including the axes, title, and legend?\\nYou can customize a Bokeh plot by setting properties on the figure object. This includes changing the title text and style, modifying axis labels and their appearance, and customizing the legend’s title, font size, and background color.\\n\\nQ4. What is a Bokeh server, and how can you use it to create interactive plots that can be updated in real time?\\nA Bokeh server allows you to create interactive plots that can be updated in real time. It enables you to build web applications that connect to live data sources. You can use the Bokeh server to add callbacks and periodic updates to your plots.\\n\\nQ5. How can you embed a Bokeh plot into a web page or dashboard using Flask or Django?\\nYou can embed Bokeh plots into web applications built with Flask or Django. This involves creating a Bokeh plot, embedding it into an HTML template, and rendering the template using Flask or Django’s view functions.'"
      ]
     },
     "execution_count": 1,
     "metadata": {},
     "output_type": "execute_result"
    }
   ],
   "source": [
    "\"\"\"Q1. How can you create a Bokeh plot using Python code?\n",
    "To create a Bokeh plot, you need to import the necessary modules from Bokeh, create a figure object, add glyphs (like lines or circles) to the figure, and then display the plot using the show function.\n",
    "\n",
    "Q2. What are glyphs in Bokeh, and how can you add them to a Bokeh plot? Explain with an example.\n",
    "Glyphs are the basic visual elements in Bokeh plots, such as circles, lines, rectangles, etc. You can add them to a Bokeh plot by calling methods like circle, line, rect, etc., on a figure object.\n",
    "\n",
    "Q3. How can you customize the appearance of a Bokeh plot, including the axes, title, and legend?\n",
    "You can customize a Bokeh plot by setting properties on the figure object. This includes changing the title text and style, modifying axis labels and their appearance, and customizing the legend’s title, font size, and background color.\n",
    "\n",
    "Q4. What is a Bokeh server, and how can you use it to create interactive plots that can be updated in real time?\n",
    "A Bokeh server allows you to create interactive plots that can be updated in real time. It enables you to build web applications that connect to live data sources. You can use the Bokeh server to add callbacks and periodic updates to your plots.\n",
    "\n",
    "Q5. How can you embed a Bokeh plot into a web page or dashboard using Flask or Django?\n",
    "You can embed Bokeh plots into web applications built with Flask or Django. This involves creating a Bokeh plot, embedding it into an HTML template, and rendering the template using Flask or Django’s view functions.\"\"\""
   ]
  },
  {
   "cell_type": "code",
   "execution_count": null,
   "id": "29606735-5d0c-4d4d-ba63-92e5d7f6f605",
   "metadata": {},
   "outputs": [],
   "source": []
  }
 ],
 "metadata": {
  "kernelspec": {
   "display_name": "Python 3 (ipykernel)",
   "language": "python",
   "name": "python3"
  },
  "language_info": {
   "codemirror_mode": {
    "name": "ipython",
    "version": 3
   },
   "file_extension": ".py",
   "mimetype": "text/x-python",
   "name": "python",
   "nbconvert_exporter": "python",
   "pygments_lexer": "ipython3",
   "version": "3.11.3"
  }
 },
 "nbformat": 4,
 "nbformat_minor": 5
}
